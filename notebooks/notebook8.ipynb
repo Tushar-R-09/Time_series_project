{
 "cells": [
  {
   "cell_type": "code",
   "execution_count": 1,
   "id": "841170d6",
   "metadata": {},
   "outputs": [],
   "source": [
    "\n",
    "import pandas as pd\n",
    "from src.paths import TRANSFORMED_DATA_DIR\n",
    "\n",
    "df = pd.read_parquet(TRANSFORMED_DATA_DIR / 'tabular_data.parquet')\n"
   ]
  },
  {
   "cell_type": "code",
   "execution_count": 2,
   "id": "aca35123",
   "metadata": {},
   "outputs": [
    {
     "name": "stdout",
     "output_type": "stream",
     "text": [
      "X_train.shape = (31980, 674)\n",
      "y_train.shape = (31980,)\n",
      "X_test.shape = (55640, 674)\n",
      "y_test.shape = (55640,)\n"
     ]
    }
   ],
   "source": [
    "from datetime import datetime, timezone\n",
    "from src.data_split import train_test_split\n",
    "\n",
    "X_train, y_train, X_test, y_test = train_test_split(df, cutoff_date=datetime(2022, 6, 1, 0, 0, 0, tzinfo=timezone.utc), target_column_name='target_rides_next_hour')\n",
    "\n",
    "print(f'{X_train.shape = }')\n",
    "print(f'{y_train.shape = }')\n",
    "print(f'{X_test.shape = }')\n",
    "print(f'{y_test.shape = }')\n"
   ]
  },
  {
   "cell_type": "code",
   "execution_count": 4,
   "id": "f5e354c9",
   "metadata": {},
   "outputs": [],
   "source": [
    "import numpy as np\n",
    "from sklearn.model_selection import KFold, TimeSeriesSplit\n",
    "from sklearn.pipeline import make_pipeline\n",
    "from sklearn.metrics import mean_absolute_error\n",
    "import optuna\n",
    "\n",
    "from src.model import get_pipeline\n",
    "\n",
    "def objective(trial: optuna.trial.Trial) -> float:\n",
    "\n",
    "    hyperparams = {\n",
    "        \"metric\": \"mae\",\n",
    "        \"verbose\": -1,\n",
    "        \"num_leaves\": trial.suggest_int(\"num_leaves\", 2, 256),\n",
    "        \"feature_fraction\": trial.suggest_float(\"feature_fraction\", 0.2, 1.0),\n",
    "        \"bagging_fraction\": trial.suggest_float(\"bagging_fraction\", 0.2, 1.0),\n",
    "        \"min_child_samples\": trial.suggest_int(\"min_child_samples\", 3, 100),\n",
    "    }\n",
    "\n",
    "    tss = TimeSeriesSplit(n_splits = 4)\n",
    "    scores = []\n",
    "    for train_index, val_index in tss.split(X_train):\n",
    "        X_train_, X_val_ = X_train.iloc[train_index, :], X_train.iloc[val_index, :]\n",
    "        y_train_, y_val_ = y_train.iloc[train_index], y_train.iloc[val_index]\n",
    "\n",
    "        pipeline = get_pipeline(**hyperparams)\n",
    "        pipeline.fit(X_train_, y_train_)\n",
    "\n",
    "        y_pred = pipeline.predict(X_val_)\n",
    "        mae = mean_absolute_error(y_val_, y_pred)\n",
    "        scores.append(mae)\n",
    "\n",
    "    return np.array(scores).mean()\n"
   ]
  },
  {
   "cell_type": "code",
   "execution_count": 5,
   "id": "6cf5675a",
   "metadata": {},
   "outputs": [
    {
     "name": "stderr",
     "output_type": "stream",
     "text": [
      "[I 2025-05-04 13:36:11,898] A new study created in memory with name: no-name-fd637bf5-9787-4c8e-8a13-04fb2314bd92\n",
      "C:\\Users\\LENOVO\\Desktop\\Time_series_project\\src\\model.py:22: SettingWithCopyWarning: \n",
      "A value is trying to be set on a copy of a slice from a DataFrame.\n",
      "Try using .loc[row_indexer,col_indexer] = value instead\n",
      "\n",
      "See the caveats in the documentation: https://pandas.pydata.org/pandas-docs/stable/user_guide/indexing.html#returning-a-view-versus-a-copy\n",
      "  X['average_rides_last_4_weeks'] = (\n",
      "C:\\Users\\LENOVO\\Desktop\\Time_series_project\\src\\model.py:22: SettingWithCopyWarning: \n",
      "A value is trying to be set on a copy of a slice from a DataFrame.\n",
      "Try using .loc[row_indexer,col_indexer] = value instead\n",
      "\n",
      "See the caveats in the documentation: https://pandas.pydata.org/pandas-docs/stable/user_guide/indexing.html#returning-a-view-versus-a-copy\n",
      "  X['average_rides_last_4_weeks'] = (\n",
      "C:\\Users\\LENOVO\\Desktop\\Time_series_project\\src\\model.py:22: SettingWithCopyWarning: \n",
      "A value is trying to be set on a copy of a slice from a DataFrame.\n",
      "Try using .loc[row_indexer,col_indexer] = value instead\n",
      "\n",
      "See the caveats in the documentation: https://pandas.pydata.org/pandas-docs/stable/user_guide/indexing.html#returning-a-view-versus-a-copy\n",
      "  X['average_rides_last_4_weeks'] = (\n",
      "C:\\Users\\LENOVO\\Desktop\\Time_series_project\\src\\model.py:22: SettingWithCopyWarning: \n",
      "A value is trying to be set on a copy of a slice from a DataFrame.\n",
      "Try using .loc[row_indexer,col_indexer] = value instead\n",
      "\n",
      "See the caveats in the documentation: https://pandas.pydata.org/pandas-docs/stable/user_guide/indexing.html#returning-a-view-versus-a-copy\n",
      "  X['average_rides_last_4_weeks'] = (\n",
      "C:\\Users\\LENOVO\\Desktop\\Time_series_project\\src\\model.py:22: SettingWithCopyWarning: \n",
      "A value is trying to be set on a copy of a slice from a DataFrame.\n",
      "Try using .loc[row_indexer,col_indexer] = value instead\n",
      "\n",
      "See the caveats in the documentation: https://pandas.pydata.org/pandas-docs/stable/user_guide/indexing.html#returning-a-view-versus-a-copy\n",
      "  X['average_rides_last_4_weeks'] = (\n",
      "C:\\Users\\LENOVO\\Desktop\\Time_series_project\\src\\model.py:22: SettingWithCopyWarning: \n",
      "A value is trying to be set on a copy of a slice from a DataFrame.\n",
      "Try using .loc[row_indexer,col_indexer] = value instead\n",
      "\n",
      "See the caveats in the documentation: https://pandas.pydata.org/pandas-docs/stable/user_guide/indexing.html#returning-a-view-versus-a-copy\n",
      "  X['average_rides_last_4_weeks'] = (\n",
      "C:\\Users\\LENOVO\\Desktop\\Time_series_project\\src\\model.py:22: SettingWithCopyWarning: \n",
      "A value is trying to be set on a copy of a slice from a DataFrame.\n",
      "Try using .loc[row_indexer,col_indexer] = value instead\n",
      "\n",
      "See the caveats in the documentation: https://pandas.pydata.org/pandas-docs/stable/user_guide/indexing.html#returning-a-view-versus-a-copy\n",
      "  X['average_rides_last_4_weeks'] = (\n",
      "C:\\Users\\LENOVO\\Desktop\\Time_series_project\\src\\model.py:22: SettingWithCopyWarning: \n",
      "A value is trying to be set on a copy of a slice from a DataFrame.\n",
      "Try using .loc[row_indexer,col_indexer] = value instead\n",
      "\n",
      "See the caveats in the documentation: https://pandas.pydata.org/pandas-docs/stable/user_guide/indexing.html#returning-a-view-versus-a-copy\n",
      "  X['average_rides_last_4_weeks'] = (\n",
      "[I 2025-05-04 13:36:41,096] Trial 0 finished with value: 3.455683627139852 and parameters: {'num_leaves': 151, 'feature_fraction': 0.814274335660915, 'bagging_fraction': 0.8392522508660216, 'min_child_samples': 82}. Best is trial 0 with value: 3.455683627139852.\n",
      "C:\\Users\\LENOVO\\Desktop\\Time_series_project\\src\\model.py:22: SettingWithCopyWarning: \n",
      "A value is trying to be set on a copy of a slice from a DataFrame.\n",
      "Try using .loc[row_indexer,col_indexer] = value instead\n",
      "\n",
      "See the caveats in the documentation: https://pandas.pydata.org/pandas-docs/stable/user_guide/indexing.html#returning-a-view-versus-a-copy\n",
      "  X['average_rides_last_4_weeks'] = (\n",
      "C:\\Users\\LENOVO\\Desktop\\Time_series_project\\src\\model.py:22: SettingWithCopyWarning: \n",
      "A value is trying to be set on a copy of a slice from a DataFrame.\n",
      "Try using .loc[row_indexer,col_indexer] = value instead\n",
      "\n",
      "See the caveats in the documentation: https://pandas.pydata.org/pandas-docs/stable/user_guide/indexing.html#returning-a-view-versus-a-copy\n",
      "  X['average_rides_last_4_weeks'] = (\n",
      "C:\\Users\\LENOVO\\Desktop\\Time_series_project\\src\\model.py:22: SettingWithCopyWarning: \n",
      "A value is trying to be set on a copy of a slice from a DataFrame.\n",
      "Try using .loc[row_indexer,col_indexer] = value instead\n",
      "\n",
      "See the caveats in the documentation: https://pandas.pydata.org/pandas-docs/stable/user_guide/indexing.html#returning-a-view-versus-a-copy\n",
      "  X['average_rides_last_4_weeks'] = (\n",
      "C:\\Users\\LENOVO\\Desktop\\Time_series_project\\src\\model.py:22: SettingWithCopyWarning: \n",
      "A value is trying to be set on a copy of a slice from a DataFrame.\n",
      "Try using .loc[row_indexer,col_indexer] = value instead\n",
      "\n",
      "See the caveats in the documentation: https://pandas.pydata.org/pandas-docs/stable/user_guide/indexing.html#returning-a-view-versus-a-copy\n",
      "  X['average_rides_last_4_weeks'] = (\n",
      "C:\\Users\\LENOVO\\Desktop\\Time_series_project\\src\\model.py:22: SettingWithCopyWarning: \n",
      "A value is trying to be set on a copy of a slice from a DataFrame.\n",
      "Try using .loc[row_indexer,col_indexer] = value instead\n",
      "\n",
      "See the caveats in the documentation: https://pandas.pydata.org/pandas-docs/stable/user_guide/indexing.html#returning-a-view-versus-a-copy\n",
      "  X['average_rides_last_4_weeks'] = (\n",
      "C:\\Users\\LENOVO\\Desktop\\Time_series_project\\src\\model.py:22: SettingWithCopyWarning: \n",
      "A value is trying to be set on a copy of a slice from a DataFrame.\n",
      "Try using .loc[row_indexer,col_indexer] = value instead\n",
      "\n",
      "See the caveats in the documentation: https://pandas.pydata.org/pandas-docs/stable/user_guide/indexing.html#returning-a-view-versus-a-copy\n",
      "  X['average_rides_last_4_weeks'] = (\n",
      "C:\\Users\\LENOVO\\Desktop\\Time_series_project\\src\\model.py:22: SettingWithCopyWarning: \n",
      "A value is trying to be set on a copy of a slice from a DataFrame.\n",
      "Try using .loc[row_indexer,col_indexer] = value instead\n",
      "\n",
      "See the caveats in the documentation: https://pandas.pydata.org/pandas-docs/stable/user_guide/indexing.html#returning-a-view-versus-a-copy\n",
      "  X['average_rides_last_4_weeks'] = (\n",
      "C:\\Users\\LENOVO\\Desktop\\Time_series_project\\src\\model.py:22: SettingWithCopyWarning: \n",
      "A value is trying to be set on a copy of a slice from a DataFrame.\n",
      "Try using .loc[row_indexer,col_indexer] = value instead\n",
      "\n",
      "See the caveats in the documentation: https://pandas.pydata.org/pandas-docs/stable/user_guide/indexing.html#returning-a-view-versus-a-copy\n",
      "  X['average_rides_last_4_weeks'] = (\n",
      "[I 2025-05-04 13:37:22,455] Trial 1 finished with value: 3.1402216086012364 and parameters: {'num_leaves': 210, 'feature_fraction': 0.6993392675323655, 'bagging_fraction': 0.21705253816094647, 'min_child_samples': 11}. Best is trial 1 with value: 3.1402216086012364.\n",
      "C:\\Users\\LENOVO\\Desktop\\Time_series_project\\src\\model.py:22: SettingWithCopyWarning: \n",
      "A value is trying to be set on a copy of a slice from a DataFrame.\n",
      "Try using .loc[row_indexer,col_indexer] = value instead\n",
      "\n",
      "See the caveats in the documentation: https://pandas.pydata.org/pandas-docs/stable/user_guide/indexing.html#returning-a-view-versus-a-copy\n",
      "  X['average_rides_last_4_weeks'] = (\n",
      "C:\\Users\\LENOVO\\Desktop\\Time_series_project\\src\\model.py:22: SettingWithCopyWarning: \n",
      "A value is trying to be set on a copy of a slice from a DataFrame.\n",
      "Try using .loc[row_indexer,col_indexer] = value instead\n",
      "\n",
      "See the caveats in the documentation: https://pandas.pydata.org/pandas-docs/stable/user_guide/indexing.html#returning-a-view-versus-a-copy\n",
      "  X['average_rides_last_4_weeks'] = (\n",
      "C:\\Users\\LENOVO\\Desktop\\Time_series_project\\src\\model.py:22: SettingWithCopyWarning: \n",
      "A value is trying to be set on a copy of a slice from a DataFrame.\n",
      "Try using .loc[row_indexer,col_indexer] = value instead\n",
      "\n",
      "See the caveats in the documentation: https://pandas.pydata.org/pandas-docs/stable/user_guide/indexing.html#returning-a-view-versus-a-copy\n",
      "  X['average_rides_last_4_weeks'] = (\n",
      "C:\\Users\\LENOVO\\Desktop\\Time_series_project\\src\\model.py:22: SettingWithCopyWarning: \n",
      "A value is trying to be set on a copy of a slice from a DataFrame.\n",
      "Try using .loc[row_indexer,col_indexer] = value instead\n",
      "\n",
      "See the caveats in the documentation: https://pandas.pydata.org/pandas-docs/stable/user_guide/indexing.html#returning-a-view-versus-a-copy\n",
      "  X['average_rides_last_4_weeks'] = (\n",
      "C:\\Users\\LENOVO\\Desktop\\Time_series_project\\src\\model.py:22: SettingWithCopyWarning: \n",
      "A value is trying to be set on a copy of a slice from a DataFrame.\n",
      "Try using .loc[row_indexer,col_indexer] = value instead\n",
      "\n",
      "See the caveats in the documentation: https://pandas.pydata.org/pandas-docs/stable/user_guide/indexing.html#returning-a-view-versus-a-copy\n",
      "  X['average_rides_last_4_weeks'] = (\n",
      "C:\\Users\\LENOVO\\Desktop\\Time_series_project\\src\\model.py:22: SettingWithCopyWarning: \n",
      "A value is trying to be set on a copy of a slice from a DataFrame.\n",
      "Try using .loc[row_indexer,col_indexer] = value instead\n",
      "\n",
      "See the caveats in the documentation: https://pandas.pydata.org/pandas-docs/stable/user_guide/indexing.html#returning-a-view-versus-a-copy\n",
      "  X['average_rides_last_4_weeks'] = (\n",
      "C:\\Users\\LENOVO\\Desktop\\Time_series_project\\src\\model.py:22: SettingWithCopyWarning: \n",
      "A value is trying to be set on a copy of a slice from a DataFrame.\n",
      "Try using .loc[row_indexer,col_indexer] = value instead\n",
      "\n",
      "See the caveats in the documentation: https://pandas.pydata.org/pandas-docs/stable/user_guide/indexing.html#returning-a-view-versus-a-copy\n",
      "  X['average_rides_last_4_weeks'] = (\n",
      "C:\\Users\\LENOVO\\Desktop\\Time_series_project\\src\\model.py:22: SettingWithCopyWarning: \n",
      "A value is trying to be set on a copy of a slice from a DataFrame.\n",
      "Try using .loc[row_indexer,col_indexer] = value instead\n",
      "\n",
      "See the caveats in the documentation: https://pandas.pydata.org/pandas-docs/stable/user_guide/indexing.html#returning-a-view-versus-a-copy\n",
      "  X['average_rides_last_4_weeks'] = (\n",
      "[I 2025-05-04 13:37:32,739] Trial 2 finished with value: 3.6828012067327123 and parameters: {'num_leaves': 179, 'feature_fraction': 0.24618847644180236, 'bagging_fraction': 0.7837690590112365, 'min_child_samples': 92}. Best is trial 1 with value: 3.1402216086012364.\n",
      "C:\\Users\\LENOVO\\Desktop\\Time_series_project\\src\\model.py:22: SettingWithCopyWarning: \n",
      "A value is trying to be set on a copy of a slice from a DataFrame.\n",
      "Try using .loc[row_indexer,col_indexer] = value instead\n",
      "\n",
      "See the caveats in the documentation: https://pandas.pydata.org/pandas-docs/stable/user_guide/indexing.html#returning-a-view-versus-a-copy\n",
      "  X['average_rides_last_4_weeks'] = (\n",
      "C:\\Users\\LENOVO\\Desktop\\Time_series_project\\src\\model.py:22: SettingWithCopyWarning: \n",
      "A value is trying to be set on a copy of a slice from a DataFrame.\n",
      "Try using .loc[row_indexer,col_indexer] = value instead\n",
      "\n",
      "See the caveats in the documentation: https://pandas.pydata.org/pandas-docs/stable/user_guide/indexing.html#returning-a-view-versus-a-copy\n",
      "  X['average_rides_last_4_weeks'] = (\n",
      "C:\\Users\\LENOVO\\Desktop\\Time_series_project\\src\\model.py:22: SettingWithCopyWarning: \n",
      "A value is trying to be set on a copy of a slice from a DataFrame.\n",
      "Try using .loc[row_indexer,col_indexer] = value instead\n",
      "\n",
      "See the caveats in the documentation: https://pandas.pydata.org/pandas-docs/stable/user_guide/indexing.html#returning-a-view-versus-a-copy\n",
      "  X['average_rides_last_4_weeks'] = (\n",
      "C:\\Users\\LENOVO\\Desktop\\Time_series_project\\src\\model.py:22: SettingWithCopyWarning: \n",
      "A value is trying to be set on a copy of a slice from a DataFrame.\n",
      "Try using .loc[row_indexer,col_indexer] = value instead\n",
      "\n",
      "See the caveats in the documentation: https://pandas.pydata.org/pandas-docs/stable/user_guide/indexing.html#returning-a-view-versus-a-copy\n",
      "  X['average_rides_last_4_weeks'] = (\n",
      "C:\\Users\\LENOVO\\Desktop\\Time_series_project\\src\\model.py:22: SettingWithCopyWarning: \n",
      "A value is trying to be set on a copy of a slice from a DataFrame.\n",
      "Try using .loc[row_indexer,col_indexer] = value instead\n",
      "\n",
      "See the caveats in the documentation: https://pandas.pydata.org/pandas-docs/stable/user_guide/indexing.html#returning-a-view-versus-a-copy\n",
      "  X['average_rides_last_4_weeks'] = (\n",
      "C:\\Users\\LENOVO\\Desktop\\Time_series_project\\src\\model.py:22: SettingWithCopyWarning: \n",
      "A value is trying to be set on a copy of a slice from a DataFrame.\n",
      "Try using .loc[row_indexer,col_indexer] = value instead\n",
      "\n",
      "See the caveats in the documentation: https://pandas.pydata.org/pandas-docs/stable/user_guide/indexing.html#returning-a-view-versus-a-copy\n",
      "  X['average_rides_last_4_weeks'] = (\n",
      "C:\\Users\\LENOVO\\Desktop\\Time_series_project\\src\\model.py:22: SettingWithCopyWarning: \n",
      "A value is trying to be set on a copy of a slice from a DataFrame.\n",
      "Try using .loc[row_indexer,col_indexer] = value instead\n",
      "\n",
      "See the caveats in the documentation: https://pandas.pydata.org/pandas-docs/stable/user_guide/indexing.html#returning-a-view-versus-a-copy\n",
      "  X['average_rides_last_4_weeks'] = (\n",
      "C:\\Users\\LENOVO\\Desktop\\Time_series_project\\src\\model.py:22: SettingWithCopyWarning: \n",
      "A value is trying to be set on a copy of a slice from a DataFrame.\n",
      "Try using .loc[row_indexer,col_indexer] = value instead\n",
      "\n",
      "See the caveats in the documentation: https://pandas.pydata.org/pandas-docs/stable/user_guide/indexing.html#returning-a-view-versus-a-copy\n",
      "  X['average_rides_last_4_weeks'] = (\n",
      "[I 2025-05-04 13:38:09,065] Trial 3 finished with value: 3.0078618829243746 and parameters: {'num_leaves': 160, 'feature_fraction': 0.9307134958795522, 'bagging_fraction': 0.6794068575721779, 'min_child_samples': 27}. Best is trial 3 with value: 3.0078618829243746.\n",
      "C:\\Users\\LENOVO\\Desktop\\Time_series_project\\src\\model.py:22: SettingWithCopyWarning: \n",
      "A value is trying to be set on a copy of a slice from a DataFrame.\n",
      "Try using .loc[row_indexer,col_indexer] = value instead\n",
      "\n",
      "See the caveats in the documentation: https://pandas.pydata.org/pandas-docs/stable/user_guide/indexing.html#returning-a-view-versus-a-copy\n",
      "  X['average_rides_last_4_weeks'] = (\n",
      "C:\\Users\\LENOVO\\Desktop\\Time_series_project\\src\\model.py:22: SettingWithCopyWarning: \n",
      "A value is trying to be set on a copy of a slice from a DataFrame.\n",
      "Try using .loc[row_indexer,col_indexer] = value instead\n",
      "\n",
      "See the caveats in the documentation: https://pandas.pydata.org/pandas-docs/stable/user_guide/indexing.html#returning-a-view-versus-a-copy\n",
      "  X['average_rides_last_4_weeks'] = (\n",
      "C:\\Users\\LENOVO\\Desktop\\Time_series_project\\src\\model.py:22: SettingWithCopyWarning: \n",
      "A value is trying to be set on a copy of a slice from a DataFrame.\n",
      "Try using .loc[row_indexer,col_indexer] = value instead\n",
      "\n",
      "See the caveats in the documentation: https://pandas.pydata.org/pandas-docs/stable/user_guide/indexing.html#returning-a-view-versus-a-copy\n",
      "  X['average_rides_last_4_weeks'] = (\n",
      "C:\\Users\\LENOVO\\Desktop\\Time_series_project\\src\\model.py:22: SettingWithCopyWarning: \n",
      "A value is trying to be set on a copy of a slice from a DataFrame.\n",
      "Try using .loc[row_indexer,col_indexer] = value instead\n",
      "\n",
      "See the caveats in the documentation: https://pandas.pydata.org/pandas-docs/stable/user_guide/indexing.html#returning-a-view-versus-a-copy\n",
      "  X['average_rides_last_4_weeks'] = (\n",
      "C:\\Users\\LENOVO\\Desktop\\Time_series_project\\src\\model.py:22: SettingWithCopyWarning: \n",
      "A value is trying to be set on a copy of a slice from a DataFrame.\n",
      "Try using .loc[row_indexer,col_indexer] = value instead\n",
      "\n",
      "See the caveats in the documentation: https://pandas.pydata.org/pandas-docs/stable/user_guide/indexing.html#returning-a-view-versus-a-copy\n",
      "  X['average_rides_last_4_weeks'] = (\n",
      "C:\\Users\\LENOVO\\Desktop\\Time_series_project\\src\\model.py:22: SettingWithCopyWarning: \n",
      "A value is trying to be set on a copy of a slice from a DataFrame.\n",
      "Try using .loc[row_indexer,col_indexer] = value instead\n",
      "\n",
      "See the caveats in the documentation: https://pandas.pydata.org/pandas-docs/stable/user_guide/indexing.html#returning-a-view-versus-a-copy\n",
      "  X['average_rides_last_4_weeks'] = (\n",
      "C:\\Users\\LENOVO\\Desktop\\Time_series_project\\src\\model.py:22: SettingWithCopyWarning: \n",
      "A value is trying to be set on a copy of a slice from a DataFrame.\n",
      "Try using .loc[row_indexer,col_indexer] = value instead\n",
      "\n",
      "See the caveats in the documentation: https://pandas.pydata.org/pandas-docs/stable/user_guide/indexing.html#returning-a-view-versus-a-copy\n",
      "  X['average_rides_last_4_weeks'] = (\n",
      "C:\\Users\\LENOVO\\Desktop\\Time_series_project\\src\\model.py:22: SettingWithCopyWarning: \n",
      "A value is trying to be set on a copy of a slice from a DataFrame.\n",
      "Try using .loc[row_indexer,col_indexer] = value instead\n",
      "\n",
      "See the caveats in the documentation: https://pandas.pydata.org/pandas-docs/stable/user_guide/indexing.html#returning-a-view-versus-a-copy\n",
      "  X['average_rides_last_4_weeks'] = (\n",
      "[I 2025-05-04 13:38:37,863] Trial 4 finished with value: 3.628456167471333 and parameters: {'num_leaves': 230, 'feature_fraction': 0.9166677604760383, 'bagging_fraction': 0.9830207941425362, 'min_child_samples': 97}. Best is trial 3 with value: 3.0078618829243746.\n"
     ]
    }
   ],
   "source": [
    "study = optuna.create_study(direction = \"minimize\")\n",
    "study.optimize(objective, n_trials = 5)"
   ]
  },
  {
   "cell_type": "code",
   "execution_count": 6,
   "id": "f64b3268",
   "metadata": {},
   "outputs": [
    {
     "name": "stdout",
     "output_type": "stream",
     "text": [
      "best_params = {'num_leaves': 160, 'feature_fraction': 0.9307134958795522, 'bagging_fraction': 0.6794068575721779, 'min_child_samples': 27}\n"
     ]
    }
   ],
   "source": [
    "best_params = study.best_trial.params\n",
    "print(f'{best_params = }')"
   ]
  },
  {
   "cell_type": "code",
   "execution_count": 7,
   "id": "9b3ff37e",
   "metadata": {},
   "outputs": [
    {
     "data": {
      "text/html": [
       "<style>#sk-container-id-1 {\n",
       "  /* Definition of color scheme common for light and dark mode */\n",
       "  --sklearn-color-text: #000;\n",
       "  --sklearn-color-text-muted: #666;\n",
       "  --sklearn-color-line: gray;\n",
       "  /* Definition of color scheme for unfitted estimators */\n",
       "  --sklearn-color-unfitted-level-0: #fff5e6;\n",
       "  --sklearn-color-unfitted-level-1: #f6e4d2;\n",
       "  --sklearn-color-unfitted-level-2: #ffe0b3;\n",
       "  --sklearn-color-unfitted-level-3: chocolate;\n",
       "  /* Definition of color scheme for fitted estimators */\n",
       "  --sklearn-color-fitted-level-0: #f0f8ff;\n",
       "  --sklearn-color-fitted-level-1: #d4ebff;\n",
       "  --sklearn-color-fitted-level-2: #b3dbfd;\n",
       "  --sklearn-color-fitted-level-3: cornflowerblue;\n",
       "\n",
       "  /* Specific color for light theme */\n",
       "  --sklearn-color-text-on-default-background: var(--sg-text-color, var(--theme-code-foreground, var(--jp-content-font-color1, black)));\n",
       "  --sklearn-color-background: var(--sg-background-color, var(--theme-background, var(--jp-layout-color0, white)));\n",
       "  --sklearn-color-border-box: var(--sg-text-color, var(--theme-code-foreground, var(--jp-content-font-color1, black)));\n",
       "  --sklearn-color-icon: #696969;\n",
       "\n",
       "  @media (prefers-color-scheme: dark) {\n",
       "    /* Redefinition of color scheme for dark theme */\n",
       "    --sklearn-color-text-on-default-background: var(--sg-text-color, var(--theme-code-foreground, var(--jp-content-font-color1, white)));\n",
       "    --sklearn-color-background: var(--sg-background-color, var(--theme-background, var(--jp-layout-color0, #111)));\n",
       "    --sklearn-color-border-box: var(--sg-text-color, var(--theme-code-foreground, var(--jp-content-font-color1, white)));\n",
       "    --sklearn-color-icon: #878787;\n",
       "  }\n",
       "}\n",
       "\n",
       "#sk-container-id-1 {\n",
       "  color: var(--sklearn-color-text);\n",
       "}\n",
       "\n",
       "#sk-container-id-1 pre {\n",
       "  padding: 0;\n",
       "}\n",
       "\n",
       "#sk-container-id-1 input.sk-hidden--visually {\n",
       "  border: 0;\n",
       "  clip: rect(1px 1px 1px 1px);\n",
       "  clip: rect(1px, 1px, 1px, 1px);\n",
       "  height: 1px;\n",
       "  margin: -1px;\n",
       "  overflow: hidden;\n",
       "  padding: 0;\n",
       "  position: absolute;\n",
       "  width: 1px;\n",
       "}\n",
       "\n",
       "#sk-container-id-1 div.sk-dashed-wrapped {\n",
       "  border: 1px dashed var(--sklearn-color-line);\n",
       "  margin: 0 0.4em 0.5em 0.4em;\n",
       "  box-sizing: border-box;\n",
       "  padding-bottom: 0.4em;\n",
       "  background-color: var(--sklearn-color-background);\n",
       "}\n",
       "\n",
       "#sk-container-id-1 div.sk-container {\n",
       "  /* jupyter's `normalize.less` sets `[hidden] { display: none; }`\n",
       "     but bootstrap.min.css set `[hidden] { display: none !important; }`\n",
       "     so we also need the `!important` here to be able to override the\n",
       "     default hidden behavior on the sphinx rendered scikit-learn.org.\n",
       "     See: https://github.com/scikit-learn/scikit-learn/issues/21755 */\n",
       "  display: inline-block !important;\n",
       "  position: relative;\n",
       "}\n",
       "\n",
       "#sk-container-id-1 div.sk-text-repr-fallback {\n",
       "  display: none;\n",
       "}\n",
       "\n",
       "div.sk-parallel-item,\n",
       "div.sk-serial,\n",
       "div.sk-item {\n",
       "  /* draw centered vertical line to link estimators */\n",
       "  background-image: linear-gradient(var(--sklearn-color-text-on-default-background), var(--sklearn-color-text-on-default-background));\n",
       "  background-size: 2px 100%;\n",
       "  background-repeat: no-repeat;\n",
       "  background-position: center center;\n",
       "}\n",
       "\n",
       "/* Parallel-specific style estimator block */\n",
       "\n",
       "#sk-container-id-1 div.sk-parallel-item::after {\n",
       "  content: \"\";\n",
       "  width: 100%;\n",
       "  border-bottom: 2px solid var(--sklearn-color-text-on-default-background);\n",
       "  flex-grow: 1;\n",
       "}\n",
       "\n",
       "#sk-container-id-1 div.sk-parallel {\n",
       "  display: flex;\n",
       "  align-items: stretch;\n",
       "  justify-content: center;\n",
       "  background-color: var(--sklearn-color-background);\n",
       "  position: relative;\n",
       "}\n",
       "\n",
       "#sk-container-id-1 div.sk-parallel-item {\n",
       "  display: flex;\n",
       "  flex-direction: column;\n",
       "}\n",
       "\n",
       "#sk-container-id-1 div.sk-parallel-item:first-child::after {\n",
       "  align-self: flex-end;\n",
       "  width: 50%;\n",
       "}\n",
       "\n",
       "#sk-container-id-1 div.sk-parallel-item:last-child::after {\n",
       "  align-self: flex-start;\n",
       "  width: 50%;\n",
       "}\n",
       "\n",
       "#sk-container-id-1 div.sk-parallel-item:only-child::after {\n",
       "  width: 0;\n",
       "}\n",
       "\n",
       "/* Serial-specific style estimator block */\n",
       "\n",
       "#sk-container-id-1 div.sk-serial {\n",
       "  display: flex;\n",
       "  flex-direction: column;\n",
       "  align-items: center;\n",
       "  background-color: var(--sklearn-color-background);\n",
       "  padding-right: 1em;\n",
       "  padding-left: 1em;\n",
       "}\n",
       "\n",
       "\n",
       "/* Toggleable style: style used for estimator/Pipeline/ColumnTransformer box that is\n",
       "clickable and can be expanded/collapsed.\n",
       "- Pipeline and ColumnTransformer use this feature and define the default style\n",
       "- Estimators will overwrite some part of the style using the `sk-estimator` class\n",
       "*/\n",
       "\n",
       "/* Pipeline and ColumnTransformer style (default) */\n",
       "\n",
       "#sk-container-id-1 div.sk-toggleable {\n",
       "  /* Default theme specific background. It is overwritten whether we have a\n",
       "  specific estimator or a Pipeline/ColumnTransformer */\n",
       "  background-color: var(--sklearn-color-background);\n",
       "}\n",
       "\n",
       "/* Toggleable label */\n",
       "#sk-container-id-1 label.sk-toggleable__label {\n",
       "  cursor: pointer;\n",
       "  display: flex;\n",
       "  width: 100%;\n",
       "  margin-bottom: 0;\n",
       "  padding: 0.5em;\n",
       "  box-sizing: border-box;\n",
       "  text-align: center;\n",
       "  align-items: start;\n",
       "  justify-content: space-between;\n",
       "  gap: 0.5em;\n",
       "}\n",
       "\n",
       "#sk-container-id-1 label.sk-toggleable__label .caption {\n",
       "  font-size: 0.6rem;\n",
       "  font-weight: lighter;\n",
       "  color: var(--sklearn-color-text-muted);\n",
       "}\n",
       "\n",
       "#sk-container-id-1 label.sk-toggleable__label-arrow:before {\n",
       "  /* Arrow on the left of the label */\n",
       "  content: \"▸\";\n",
       "  float: left;\n",
       "  margin-right: 0.25em;\n",
       "  color: var(--sklearn-color-icon);\n",
       "}\n",
       "\n",
       "#sk-container-id-1 label.sk-toggleable__label-arrow:hover:before {\n",
       "  color: var(--sklearn-color-text);\n",
       "}\n",
       "\n",
       "/* Toggleable content - dropdown */\n",
       "\n",
       "#sk-container-id-1 div.sk-toggleable__content {\n",
       "  max-height: 0;\n",
       "  max-width: 0;\n",
       "  overflow: hidden;\n",
       "  text-align: left;\n",
       "  /* unfitted */\n",
       "  background-color: var(--sklearn-color-unfitted-level-0);\n",
       "}\n",
       "\n",
       "#sk-container-id-1 div.sk-toggleable__content.fitted {\n",
       "  /* fitted */\n",
       "  background-color: var(--sklearn-color-fitted-level-0);\n",
       "}\n",
       "\n",
       "#sk-container-id-1 div.sk-toggleable__content pre {\n",
       "  margin: 0.2em;\n",
       "  border-radius: 0.25em;\n",
       "  color: var(--sklearn-color-text);\n",
       "  /* unfitted */\n",
       "  background-color: var(--sklearn-color-unfitted-level-0);\n",
       "}\n",
       "\n",
       "#sk-container-id-1 div.sk-toggleable__content.fitted pre {\n",
       "  /* unfitted */\n",
       "  background-color: var(--sklearn-color-fitted-level-0);\n",
       "}\n",
       "\n",
       "#sk-container-id-1 input.sk-toggleable__control:checked~div.sk-toggleable__content {\n",
       "  /* Expand drop-down */\n",
       "  max-height: 200px;\n",
       "  max-width: 100%;\n",
       "  overflow: auto;\n",
       "}\n",
       "\n",
       "#sk-container-id-1 input.sk-toggleable__control:checked~label.sk-toggleable__label-arrow:before {\n",
       "  content: \"▾\";\n",
       "}\n",
       "\n",
       "/* Pipeline/ColumnTransformer-specific style */\n",
       "\n",
       "#sk-container-id-1 div.sk-label input.sk-toggleable__control:checked~label.sk-toggleable__label {\n",
       "  color: var(--sklearn-color-text);\n",
       "  background-color: var(--sklearn-color-unfitted-level-2);\n",
       "}\n",
       "\n",
       "#sk-container-id-1 div.sk-label.fitted input.sk-toggleable__control:checked~label.sk-toggleable__label {\n",
       "  background-color: var(--sklearn-color-fitted-level-2);\n",
       "}\n",
       "\n",
       "/* Estimator-specific style */\n",
       "\n",
       "/* Colorize estimator box */\n",
       "#sk-container-id-1 div.sk-estimator input.sk-toggleable__control:checked~label.sk-toggleable__label {\n",
       "  /* unfitted */\n",
       "  background-color: var(--sklearn-color-unfitted-level-2);\n",
       "}\n",
       "\n",
       "#sk-container-id-1 div.sk-estimator.fitted input.sk-toggleable__control:checked~label.sk-toggleable__label {\n",
       "  /* fitted */\n",
       "  background-color: var(--sklearn-color-fitted-level-2);\n",
       "}\n",
       "\n",
       "#sk-container-id-1 div.sk-label label.sk-toggleable__label,\n",
       "#sk-container-id-1 div.sk-label label {\n",
       "  /* The background is the default theme color */\n",
       "  color: var(--sklearn-color-text-on-default-background);\n",
       "}\n",
       "\n",
       "/* On hover, darken the color of the background */\n",
       "#sk-container-id-1 div.sk-label:hover label.sk-toggleable__label {\n",
       "  color: var(--sklearn-color-text);\n",
       "  background-color: var(--sklearn-color-unfitted-level-2);\n",
       "}\n",
       "\n",
       "/* Label box, darken color on hover, fitted */\n",
       "#sk-container-id-1 div.sk-label.fitted:hover label.sk-toggleable__label.fitted {\n",
       "  color: var(--sklearn-color-text);\n",
       "  background-color: var(--sklearn-color-fitted-level-2);\n",
       "}\n",
       "\n",
       "/* Estimator label */\n",
       "\n",
       "#sk-container-id-1 div.sk-label label {\n",
       "  font-family: monospace;\n",
       "  font-weight: bold;\n",
       "  display: inline-block;\n",
       "  line-height: 1.2em;\n",
       "}\n",
       "\n",
       "#sk-container-id-1 div.sk-label-container {\n",
       "  text-align: center;\n",
       "}\n",
       "\n",
       "/* Estimator-specific */\n",
       "#sk-container-id-1 div.sk-estimator {\n",
       "  font-family: monospace;\n",
       "  border: 1px dotted var(--sklearn-color-border-box);\n",
       "  border-radius: 0.25em;\n",
       "  box-sizing: border-box;\n",
       "  margin-bottom: 0.5em;\n",
       "  /* unfitted */\n",
       "  background-color: var(--sklearn-color-unfitted-level-0);\n",
       "}\n",
       "\n",
       "#sk-container-id-1 div.sk-estimator.fitted {\n",
       "  /* fitted */\n",
       "  background-color: var(--sklearn-color-fitted-level-0);\n",
       "}\n",
       "\n",
       "/* on hover */\n",
       "#sk-container-id-1 div.sk-estimator:hover {\n",
       "  /* unfitted */\n",
       "  background-color: var(--sklearn-color-unfitted-level-2);\n",
       "}\n",
       "\n",
       "#sk-container-id-1 div.sk-estimator.fitted:hover {\n",
       "  /* fitted */\n",
       "  background-color: var(--sklearn-color-fitted-level-2);\n",
       "}\n",
       "\n",
       "/* Specification for estimator info (e.g. \"i\" and \"?\") */\n",
       "\n",
       "/* Common style for \"i\" and \"?\" */\n",
       "\n",
       ".sk-estimator-doc-link,\n",
       "a:link.sk-estimator-doc-link,\n",
       "a:visited.sk-estimator-doc-link {\n",
       "  float: right;\n",
       "  font-size: smaller;\n",
       "  line-height: 1em;\n",
       "  font-family: monospace;\n",
       "  background-color: var(--sklearn-color-background);\n",
       "  border-radius: 1em;\n",
       "  height: 1em;\n",
       "  width: 1em;\n",
       "  text-decoration: none !important;\n",
       "  margin-left: 0.5em;\n",
       "  text-align: center;\n",
       "  /* unfitted */\n",
       "  border: var(--sklearn-color-unfitted-level-1) 1pt solid;\n",
       "  color: var(--sklearn-color-unfitted-level-1);\n",
       "}\n",
       "\n",
       ".sk-estimator-doc-link.fitted,\n",
       "a:link.sk-estimator-doc-link.fitted,\n",
       "a:visited.sk-estimator-doc-link.fitted {\n",
       "  /* fitted */\n",
       "  border: var(--sklearn-color-fitted-level-1) 1pt solid;\n",
       "  color: var(--sklearn-color-fitted-level-1);\n",
       "}\n",
       "\n",
       "/* On hover */\n",
       "div.sk-estimator:hover .sk-estimator-doc-link:hover,\n",
       ".sk-estimator-doc-link:hover,\n",
       "div.sk-label-container:hover .sk-estimator-doc-link:hover,\n",
       ".sk-estimator-doc-link:hover {\n",
       "  /* unfitted */\n",
       "  background-color: var(--sklearn-color-unfitted-level-3);\n",
       "  color: var(--sklearn-color-background);\n",
       "  text-decoration: none;\n",
       "}\n",
       "\n",
       "div.sk-estimator.fitted:hover .sk-estimator-doc-link.fitted:hover,\n",
       ".sk-estimator-doc-link.fitted:hover,\n",
       "div.sk-label-container:hover .sk-estimator-doc-link.fitted:hover,\n",
       ".sk-estimator-doc-link.fitted:hover {\n",
       "  /* fitted */\n",
       "  background-color: var(--sklearn-color-fitted-level-3);\n",
       "  color: var(--sklearn-color-background);\n",
       "  text-decoration: none;\n",
       "}\n",
       "\n",
       "/* Span, style for the box shown on hovering the info icon */\n",
       ".sk-estimator-doc-link span {\n",
       "  display: none;\n",
       "  z-index: 9999;\n",
       "  position: relative;\n",
       "  font-weight: normal;\n",
       "  right: .2ex;\n",
       "  padding: .5ex;\n",
       "  margin: .5ex;\n",
       "  width: min-content;\n",
       "  min-width: 20ex;\n",
       "  max-width: 50ex;\n",
       "  color: var(--sklearn-color-text);\n",
       "  box-shadow: 2pt 2pt 4pt #999;\n",
       "  /* unfitted */\n",
       "  background: var(--sklearn-color-unfitted-level-0);\n",
       "  border: .5pt solid var(--sklearn-color-unfitted-level-3);\n",
       "}\n",
       "\n",
       ".sk-estimator-doc-link.fitted span {\n",
       "  /* fitted */\n",
       "  background: var(--sklearn-color-fitted-level-0);\n",
       "  border: var(--sklearn-color-fitted-level-3);\n",
       "}\n",
       "\n",
       ".sk-estimator-doc-link:hover span {\n",
       "  display: block;\n",
       "}\n",
       "\n",
       "/* \"?\"-specific style due to the `<a>` HTML tag */\n",
       "\n",
       "#sk-container-id-1 a.estimator_doc_link {\n",
       "  float: right;\n",
       "  font-size: 1rem;\n",
       "  line-height: 1em;\n",
       "  font-family: monospace;\n",
       "  background-color: var(--sklearn-color-background);\n",
       "  border-radius: 1rem;\n",
       "  height: 1rem;\n",
       "  width: 1rem;\n",
       "  text-decoration: none;\n",
       "  /* unfitted */\n",
       "  color: var(--sklearn-color-unfitted-level-1);\n",
       "  border: var(--sklearn-color-unfitted-level-1) 1pt solid;\n",
       "}\n",
       "\n",
       "#sk-container-id-1 a.estimator_doc_link.fitted {\n",
       "  /* fitted */\n",
       "  border: var(--sklearn-color-fitted-level-1) 1pt solid;\n",
       "  color: var(--sklearn-color-fitted-level-1);\n",
       "}\n",
       "\n",
       "/* On hover */\n",
       "#sk-container-id-1 a.estimator_doc_link:hover {\n",
       "  /* unfitted */\n",
       "  background-color: var(--sklearn-color-unfitted-level-3);\n",
       "  color: var(--sklearn-color-background);\n",
       "  text-decoration: none;\n",
       "}\n",
       "\n",
       "#sk-container-id-1 a.estimator_doc_link.fitted:hover {\n",
       "  /* fitted */\n",
       "  background-color: var(--sklearn-color-fitted-level-3);\n",
       "}\n",
       "</style><div id=\"sk-container-id-1\" class=\"sk-top-container\"><div class=\"sk-text-repr-fallback\"><pre>Pipeline(steps=[(&#x27;functiontransformer&#x27;,\n",
       "                 FunctionTransformer(func=&lt;function average_rides_past_four_weeks at 0x0000018AAB7F5360&gt;)),\n",
       "                (&#x27;temporalfeaturetransformer&#x27;, TemporalFeatureTransformer()),\n",
       "                (&#x27;lgbmregressor&#x27;,\n",
       "                 LGBMRegressor(bagging_fraction=0.6794068575721779,\n",
       "                               feature_fraction=0.9307134958795522,\n",
       "                               min_child_samples=27, num_leaves=160))])</pre><b>In a Jupyter environment, please rerun this cell to show the HTML representation or trust the notebook. <br />On GitHub, the HTML representation is unable to render, please try loading this page with nbviewer.org.</b></div><div class=\"sk-container\" hidden><div class=\"sk-item sk-dashed-wrapped\"><div class=\"sk-label-container\"><div class=\"sk-label fitted sk-toggleable\"><input class=\"sk-toggleable__control sk-hidden--visually\" id=\"sk-estimator-id-1\" type=\"checkbox\" ><label for=\"sk-estimator-id-1\" class=\"sk-toggleable__label fitted sk-toggleable__label-arrow\"><div><div>Pipeline</div></div><div><a class=\"sk-estimator-doc-link fitted\" rel=\"noreferrer\" target=\"_blank\" href=\"https://scikit-learn.org/1.6/modules/generated/sklearn.pipeline.Pipeline.html\">?<span>Documentation for Pipeline</span></a><span class=\"sk-estimator-doc-link fitted\">i<span>Fitted</span></span></div></label><div class=\"sk-toggleable__content fitted\"><pre>Pipeline(steps=[(&#x27;functiontransformer&#x27;,\n",
       "                 FunctionTransformer(func=&lt;function average_rides_past_four_weeks at 0x0000018AAB7F5360&gt;)),\n",
       "                (&#x27;temporalfeaturetransformer&#x27;, TemporalFeatureTransformer()),\n",
       "                (&#x27;lgbmregressor&#x27;,\n",
       "                 LGBMRegressor(bagging_fraction=0.6794068575721779,\n",
       "                               feature_fraction=0.9307134958795522,\n",
       "                               min_child_samples=27, num_leaves=160))])</pre></div> </div></div><div class=\"sk-serial\"><div class=\"sk-item\"><div class=\"sk-estimator fitted sk-toggleable\"><input class=\"sk-toggleable__control sk-hidden--visually\" id=\"sk-estimator-id-2\" type=\"checkbox\" ><label for=\"sk-estimator-id-2\" class=\"sk-toggleable__label fitted sk-toggleable__label-arrow\"><div><div>average_rides_past_four_weeks</div><div class=\"caption\">FunctionTransformer</div></div><div><a class=\"sk-estimator-doc-link fitted\" rel=\"noreferrer\" target=\"_blank\" href=\"https://scikit-learn.org/1.6/modules/generated/sklearn.preprocessing.FunctionTransformer.html\">?<span>Documentation for FunctionTransformer</span></a></div></label><div class=\"sk-toggleable__content fitted\"><pre>FunctionTransformer(func=&lt;function average_rides_past_four_weeks at 0x0000018AAB7F5360&gt;)</pre></div> </div></div><div class=\"sk-item\"><div class=\"sk-estimator fitted sk-toggleable\"><input class=\"sk-toggleable__control sk-hidden--visually\" id=\"sk-estimator-id-3\" type=\"checkbox\" ><label for=\"sk-estimator-id-3\" class=\"sk-toggleable__label fitted sk-toggleable__label-arrow\"><div><div>TemporalFeatureTransformer</div></div></label><div class=\"sk-toggleable__content fitted\"><pre>TemporalFeatureTransformer()</pre></div> </div></div><div class=\"sk-item\"><div class=\"sk-estimator fitted sk-toggleable\"><input class=\"sk-toggleable__control sk-hidden--visually\" id=\"sk-estimator-id-4\" type=\"checkbox\" ><label for=\"sk-estimator-id-4\" class=\"sk-toggleable__label fitted sk-toggleable__label-arrow\"><div><div>LGBMRegressor</div></div></label><div class=\"sk-toggleable__content fitted\"><pre>LGBMRegressor(bagging_fraction=0.6794068575721779,\n",
       "              feature_fraction=0.9307134958795522, min_child_samples=27,\n",
       "              num_leaves=160)</pre></div> </div></div></div></div></div></div>"
      ],
      "text/plain": [
       "Pipeline(steps=[('functiontransformer',\n",
       "                 FunctionTransformer(func=<function average_rides_past_four_weeks at 0x0000018AAB7F5360>)),\n",
       "                ('temporalfeaturetransformer', TemporalFeatureTransformer()),\n",
       "                ('lgbmregressor',\n",
       "                 LGBMRegressor(bagging_fraction=0.6794068575721779,\n",
       "                               feature_fraction=0.9307134958795522,\n",
       "                               min_child_samples=27, num_leaves=160))])"
      ]
     },
     "execution_count": 7,
     "metadata": {},
     "output_type": "execute_result"
    }
   ],
   "source": [
    "pipeline = get_pipeline(**best_params)\n",
    "pipeline.fit(X_train, y_train)"
   ]
  },
  {
   "cell_type": "code",
   "execution_count": 8,
   "id": "f2fd58f1",
   "metadata": {},
   "outputs": [
    {
     "name": "stdout",
     "output_type": "stream",
     "text": [
      "Test MAE: 2.46\n"
     ]
    }
   ],
   "source": [
    "prediction = pipeline.predict(X_test)\n",
    "test_mae = mean_absolute_error(y_test, prediction)\n",
    "print(f'Test MAE: {test_mae:.2f}')"
   ]
  },
  {
   "cell_type": "code",
   "execution_count": 10,
   "id": "e6089b90",
   "metadata": {},
   "outputs": [
    {
     "name": "stderr",
     "output_type": "stream",
     "text": [
      "C:\\Users\\LENOVO\\Desktop\\Time_series_project\\src\\plot.py:24: FutureWarning:\n",
      "\n",
      "'H' is deprecated and will be removed in a future version, please use 'h' instead.\n",
      "\n"
     ]
    },
    {
     "data": {
      "application/vnd.plotly.v1+json": {
       "config": {
        "plotlyServerURL": "https://plot.ly"
       },
       "data": [
        {
         "hovertemplate": "x=%{x}<br>y=%{y}<extra></extra>",
         "legendgroup": "",
         "line": {
          "color": "#636efa",
          "dash": "solid"
         },
         "marker": {
          "symbol": "circle"
         },
         "mode": "lines+markers",
         "name": "",
         "orientation": "v",
         "showlegend": false,
         "type": "scatter",
         "x": [
          "2022-08-12T00:00:00.000000000",
          "2022-08-12T01:00:00.000000000",
          "2022-08-12T02:00:00.000000000",
          "2022-08-12T03:00:00.000000000",
          "2022-08-12T04:00:00.000000000",
          "2022-08-12T05:00:00.000000000",
          "2022-08-12T06:00:00.000000000",
          "2022-08-12T07:00:00.000000000",
          "2022-08-12T08:00:00.000000000",
          "2022-08-12T09:00:00.000000000",
          "2022-08-12T10:00:00.000000000",
          "2022-08-12T11:00:00.000000000",
          "2022-08-12T12:00:00.000000000",
          "2022-08-12T13:00:00.000000000",
          "2022-08-12T14:00:00.000000000",
          "2022-08-12T15:00:00.000000000",
          "2022-08-12T16:00:00.000000000",
          "2022-08-12T17:00:00.000000000",
          "2022-08-12T18:00:00.000000000",
          "2022-08-12T19:00:00.000000000",
          "2022-08-12T20:00:00.000000000",
          "2022-08-12T21:00:00.000000000",
          "2022-08-12T22:00:00.000000000",
          "2022-08-12T23:00:00.000000000",
          "2022-08-13T00:00:00.000000000",
          "2022-08-13T01:00:00.000000000",
          "2022-08-13T02:00:00.000000000",
          "2022-08-13T03:00:00.000000000",
          "2022-08-13T04:00:00.000000000",
          "2022-08-13T05:00:00.000000000",
          "2022-08-13T06:00:00.000000000",
          "2022-08-13T07:00:00.000000000",
          "2022-08-13T08:00:00.000000000",
          "2022-08-13T09:00:00.000000000",
          "2022-08-13T10:00:00.000000000",
          "2022-08-13T11:00:00.000000000",
          "2022-08-13T12:00:00.000000000",
          "2022-08-13T13:00:00.000000000",
          "2022-08-13T14:00:00.000000000",
          "2022-08-13T15:00:00.000000000",
          "2022-08-13T16:00:00.000000000",
          "2022-08-13T17:00:00.000000000",
          "2022-08-13T18:00:00.000000000",
          "2022-08-13T19:00:00.000000000",
          "2022-08-13T20:00:00.000000000",
          "2022-08-13T21:00:00.000000000",
          "2022-08-13T22:00:00.000000000",
          "2022-08-13T23:00:00.000000000",
          "2022-08-14T00:00:00.000000000",
          "2022-08-14T01:00:00.000000000",
          "2022-08-14T02:00:00.000000000",
          "2022-08-14T03:00:00.000000000",
          "2022-08-14T04:00:00.000000000",
          "2022-08-14T05:00:00.000000000",
          "2022-08-14T06:00:00.000000000",
          "2022-08-14T07:00:00.000000000",
          "2022-08-14T08:00:00.000000000",
          "2022-08-14T09:00:00.000000000",
          "2022-08-14T10:00:00.000000000",
          "2022-08-14T11:00:00.000000000",
          "2022-08-14T12:00:00.000000000",
          "2022-08-14T13:00:00.000000000",
          "2022-08-14T14:00:00.000000000",
          "2022-08-14T15:00:00.000000000",
          "2022-08-14T16:00:00.000000000",
          "2022-08-14T17:00:00.000000000",
          "2022-08-14T18:00:00.000000000",
          "2022-08-14T19:00:00.000000000",
          "2022-08-14T20:00:00.000000000",
          "2022-08-14T21:00:00.000000000",
          "2022-08-14T22:00:00.000000000",
          "2022-08-14T23:00:00.000000000",
          "2022-08-15T00:00:00.000000000",
          "2022-08-15T01:00:00.000000000",
          "2022-08-15T02:00:00.000000000",
          "2022-08-15T03:00:00.000000000",
          "2022-08-15T04:00:00.000000000",
          "2022-08-15T05:00:00.000000000",
          "2022-08-15T06:00:00.000000000",
          "2022-08-15T07:00:00.000000000",
          "2022-08-15T08:00:00.000000000",
          "2022-08-15T09:00:00.000000000",
          "2022-08-15T10:00:00.000000000",
          "2022-08-15T11:00:00.000000000",
          "2022-08-15T12:00:00.000000000",
          "2022-08-15T13:00:00.000000000",
          "2022-08-15T14:00:00.000000000",
          "2022-08-15T15:00:00.000000000",
          "2022-08-15T16:00:00.000000000",
          "2022-08-15T17:00:00.000000000",
          "2022-08-15T18:00:00.000000000",
          "2022-08-15T19:00:00.000000000",
          "2022-08-15T20:00:00.000000000",
          "2022-08-15T21:00:00.000000000",
          "2022-08-15T22:00:00.000000000",
          "2022-08-15T23:00:00.000000000",
          "2022-08-16T00:00:00.000000000",
          "2022-08-16T01:00:00.000000000",
          "2022-08-16T02:00:00.000000000",
          "2022-08-16T03:00:00.000000000",
          "2022-08-16T04:00:00.000000000",
          "2022-08-16T05:00:00.000000000",
          "2022-08-16T06:00:00.000000000",
          "2022-08-16T07:00:00.000000000",
          "2022-08-16T08:00:00.000000000",
          "2022-08-16T09:00:00.000000000",
          "2022-08-16T10:00:00.000000000",
          "2022-08-16T11:00:00.000000000",
          "2022-08-16T12:00:00.000000000",
          "2022-08-16T13:00:00.000000000",
          "2022-08-16T14:00:00.000000000",
          "2022-08-16T15:00:00.000000000",
          "2022-08-16T16:00:00.000000000",
          "2022-08-16T17:00:00.000000000",
          "2022-08-16T18:00:00.000000000",
          "2022-08-16T19:00:00.000000000",
          "2022-08-16T20:00:00.000000000",
          "2022-08-16T21:00:00.000000000",
          "2022-08-16T22:00:00.000000000",
          "2022-08-16T23:00:00.000000000",
          "2022-08-17T00:00:00.000000000",
          "2022-08-17T01:00:00.000000000",
          "2022-08-17T02:00:00.000000000",
          "2022-08-17T03:00:00.000000000",
          "2022-08-17T04:00:00.000000000",
          "2022-08-17T05:00:00.000000000",
          "2022-08-17T06:00:00.000000000",
          "2022-08-17T07:00:00.000000000",
          "2022-08-17T08:00:00.000000000",
          "2022-08-17T09:00:00.000000000",
          "2022-08-17T10:00:00.000000000",
          "2022-08-17T11:00:00.000000000",
          "2022-08-17T12:00:00.000000000",
          "2022-08-17T13:00:00.000000000",
          "2022-08-17T14:00:00.000000000",
          "2022-08-17T15:00:00.000000000",
          "2022-08-17T16:00:00.000000000",
          "2022-08-17T17:00:00.000000000",
          "2022-08-17T18:00:00.000000000",
          "2022-08-17T19:00:00.000000000",
          "2022-08-17T20:00:00.000000000",
          "2022-08-17T21:00:00.000000000",
          "2022-08-17T22:00:00.000000000",
          "2022-08-17T23:00:00.000000000",
          "2022-08-18T00:00:00.000000000",
          "2022-08-18T01:00:00.000000000",
          "2022-08-18T02:00:00.000000000",
          "2022-08-18T03:00:00.000000000",
          "2022-08-18T04:00:00.000000000",
          "2022-08-18T05:00:00.000000000",
          "2022-08-18T06:00:00.000000000",
          "2022-08-18T07:00:00.000000000",
          "2022-08-18T08:00:00.000000000",
          "2022-08-18T09:00:00.000000000",
          "2022-08-18T10:00:00.000000000",
          "2022-08-18T11:00:00.000000000",
          "2022-08-18T12:00:00.000000000",
          "2022-08-18T13:00:00.000000000",
          "2022-08-18T14:00:00.000000000",
          "2022-08-18T15:00:00.000000000",
          "2022-08-18T16:00:00.000000000",
          "2022-08-18T17:00:00.000000000",
          "2022-08-18T18:00:00.000000000",
          "2022-08-18T19:00:00.000000000",
          "2022-08-18T20:00:00.000000000",
          "2022-08-18T21:00:00.000000000",
          "2022-08-18T22:00:00.000000000",
          "2022-08-18T23:00:00.000000000",
          "2022-08-19T00:00:00.000000000",
          "2022-08-19T01:00:00.000000000",
          "2022-08-19T02:00:00.000000000",
          "2022-08-19T03:00:00.000000000",
          "2022-08-19T04:00:00.000000000",
          "2022-08-19T05:00:00.000000000",
          "2022-08-19T06:00:00.000000000",
          "2022-08-19T07:00:00.000000000",
          "2022-08-19T08:00:00.000000000",
          "2022-08-19T09:00:00.000000000",
          "2022-08-19T10:00:00.000000000",
          "2022-08-19T11:00:00.000000000",
          "2022-08-19T12:00:00.000000000",
          "2022-08-19T13:00:00.000000000",
          "2022-08-19T14:00:00.000000000",
          "2022-08-19T15:00:00.000000000",
          "2022-08-19T16:00:00.000000000",
          "2022-08-19T17:00:00.000000000",
          "2022-08-19T18:00:00.000000000",
          "2022-08-19T19:00:00.000000000",
          "2022-08-19T20:00:00.000000000",
          "2022-08-19T21:00:00.000000000",
          "2022-08-19T22:00:00.000000000",
          "2022-08-19T23:00:00.000000000",
          "2022-08-20T00:00:00.000000000",
          "2022-08-20T01:00:00.000000000",
          "2022-08-20T02:00:00.000000000",
          "2022-08-20T03:00:00.000000000",
          "2022-08-20T04:00:00.000000000",
          "2022-08-20T05:00:00.000000000",
          "2022-08-20T06:00:00.000000000",
          "2022-08-20T07:00:00.000000000",
          "2022-08-20T08:00:00.000000000",
          "2022-08-20T09:00:00.000000000",
          "2022-08-20T10:00:00.000000000",
          "2022-08-20T11:00:00.000000000",
          "2022-08-20T12:00:00.000000000",
          "2022-08-20T13:00:00.000000000",
          "2022-08-20T14:00:00.000000000",
          "2022-08-20T15:00:00.000000000",
          "2022-08-20T16:00:00.000000000",
          "2022-08-20T17:00:00.000000000",
          "2022-08-20T18:00:00.000000000",
          "2022-08-20T19:00:00.000000000",
          "2022-08-20T20:00:00.000000000",
          "2022-08-20T21:00:00.000000000",
          "2022-08-20T22:00:00.000000000",
          "2022-08-20T23:00:00.000000000",
          "2022-08-21T00:00:00.000000000",
          "2022-08-21T01:00:00.000000000",
          "2022-08-21T02:00:00.000000000",
          "2022-08-21T03:00:00.000000000",
          "2022-08-21T04:00:00.000000000",
          "2022-08-21T05:00:00.000000000",
          "2022-08-21T06:00:00.000000000",
          "2022-08-21T07:00:00.000000000",
          "2022-08-21T08:00:00.000000000",
          "2022-08-21T09:00:00.000000000",
          "2022-08-21T10:00:00.000000000",
          "2022-08-21T11:00:00.000000000",
          "2022-08-21T12:00:00.000000000",
          "2022-08-21T13:00:00.000000000",
          "2022-08-21T14:00:00.000000000",
          "2022-08-21T15:00:00.000000000",
          "2022-08-21T16:00:00.000000000",
          "2022-08-21T17:00:00.000000000",
          "2022-08-21T18:00:00.000000000",
          "2022-08-21T19:00:00.000000000",
          "2022-08-21T20:00:00.000000000",
          "2022-08-21T21:00:00.000000000",
          "2022-08-21T22:00:00.000000000",
          "2022-08-21T23:00:00.000000000",
          "2022-08-22T00:00:00.000000000",
          "2022-08-22T01:00:00.000000000",
          "2022-08-22T02:00:00.000000000",
          "2022-08-22T03:00:00.000000000",
          "2022-08-22T04:00:00.000000000",
          "2022-08-22T05:00:00.000000000",
          "2022-08-22T06:00:00.000000000",
          "2022-08-22T07:00:00.000000000",
          "2022-08-22T08:00:00.000000000",
          "2022-08-22T09:00:00.000000000",
          "2022-08-22T10:00:00.000000000",
          "2022-08-22T11:00:00.000000000",
          "2022-08-22T12:00:00.000000000",
          "2022-08-22T13:00:00.000000000",
          "2022-08-22T14:00:00.000000000",
          "2022-08-22T15:00:00.000000000",
          "2022-08-22T16:00:00.000000000",
          "2022-08-22T17:00:00.000000000",
          "2022-08-22T18:00:00.000000000",
          "2022-08-22T19:00:00.000000000",
          "2022-08-22T20:00:00.000000000",
          "2022-08-22T21:00:00.000000000",
          "2022-08-22T22:00:00.000000000",
          "2022-08-22T23:00:00.000000000",
          "2022-08-23T00:00:00.000000000",
          "2022-08-23T01:00:00.000000000",
          "2022-08-23T02:00:00.000000000",
          "2022-08-23T03:00:00.000000000",
          "2022-08-23T04:00:00.000000000",
          "2022-08-23T05:00:00.000000000",
          "2022-08-23T06:00:00.000000000",
          "2022-08-23T07:00:00.000000000",
          "2022-08-23T08:00:00.000000000",
          "2022-08-23T09:00:00.000000000",
          "2022-08-23T10:00:00.000000000",
          "2022-08-23T11:00:00.000000000",
          "2022-08-23T12:00:00.000000000",
          "2022-08-23T13:00:00.000000000",
          "2022-08-23T14:00:00.000000000",
          "2022-08-23T15:00:00.000000000",
          "2022-08-23T16:00:00.000000000",
          "2022-08-23T17:00:00.000000000",
          "2022-08-23T18:00:00.000000000",
          "2022-08-23T19:00:00.000000000",
          "2022-08-23T20:00:00.000000000",
          "2022-08-23T21:00:00.000000000",
          "2022-08-23T22:00:00.000000000",
          "2022-08-23T23:00:00.000000000",
          "2022-08-24T00:00:00.000000000",
          "2022-08-24T01:00:00.000000000",
          "2022-08-24T02:00:00.000000000",
          "2022-08-24T03:00:00.000000000",
          "2022-08-24T04:00:00.000000000",
          "2022-08-24T05:00:00.000000000",
          "2022-08-24T06:00:00.000000000",
          "2022-08-24T07:00:00.000000000",
          "2022-08-24T08:00:00.000000000",
          "2022-08-24T09:00:00.000000000",
          "2022-08-24T10:00:00.000000000",
          "2022-08-24T11:00:00.000000000",
          "2022-08-24T12:00:00.000000000",
          "2022-08-24T13:00:00.000000000",
          "2022-08-24T14:00:00.000000000",
          "2022-08-24T15:00:00.000000000",
          "2022-08-24T16:00:00.000000000",
          "2022-08-24T17:00:00.000000000",
          "2022-08-24T18:00:00.000000000",
          "2022-08-24T19:00:00.000000000",
          "2022-08-24T20:00:00.000000000",
          "2022-08-24T21:00:00.000000000",
          "2022-08-24T22:00:00.000000000",
          "2022-08-24T23:00:00.000000000",
          "2022-08-25T00:00:00.000000000",
          "2022-08-25T01:00:00.000000000",
          "2022-08-25T02:00:00.000000000",
          "2022-08-25T03:00:00.000000000",
          "2022-08-25T04:00:00.000000000",
          "2022-08-25T05:00:00.000000000",
          "2022-08-25T06:00:00.000000000",
          "2022-08-25T07:00:00.000000000",
          "2022-08-25T08:00:00.000000000",
          "2022-08-25T09:00:00.000000000",
          "2022-08-25T10:00:00.000000000",
          "2022-08-25T11:00:00.000000000",
          "2022-08-25T12:00:00.000000000",
          "2022-08-25T13:00:00.000000000",
          "2022-08-25T14:00:00.000000000",
          "2022-08-25T15:00:00.000000000",
          "2022-08-25T16:00:00.000000000",
          "2022-08-25T17:00:00.000000000",
          "2022-08-25T18:00:00.000000000",
          "2022-08-25T19:00:00.000000000",
          "2022-08-25T20:00:00.000000000",
          "2022-08-25T21:00:00.000000000",
          "2022-08-25T22:00:00.000000000",
          "2022-08-25T23:00:00.000000000",
          "2022-08-26T00:00:00.000000000",
          "2022-08-26T01:00:00.000000000",
          "2022-08-26T02:00:00.000000000",
          "2022-08-26T03:00:00.000000000",
          "2022-08-26T04:00:00.000000000",
          "2022-08-26T05:00:00.000000000",
          "2022-08-26T06:00:00.000000000",
          "2022-08-26T07:00:00.000000000",
          "2022-08-26T08:00:00.000000000",
          "2022-08-26T09:00:00.000000000",
          "2022-08-26T10:00:00.000000000",
          "2022-08-26T11:00:00.000000000",
          "2022-08-26T12:00:00.000000000",
          "2022-08-26T13:00:00.000000000",
          "2022-08-26T14:00:00.000000000",
          "2022-08-26T15:00:00.000000000",
          "2022-08-26T16:00:00.000000000",
          "2022-08-26T17:00:00.000000000",
          "2022-08-26T18:00:00.000000000",
          "2022-08-26T19:00:00.000000000",
          "2022-08-26T20:00:00.000000000",
          "2022-08-26T21:00:00.000000000",
          "2022-08-26T22:00:00.000000000",
          "2022-08-26T23:00:00.000000000",
          "2022-08-27T00:00:00.000000000",
          "2022-08-27T01:00:00.000000000",
          "2022-08-27T02:00:00.000000000",
          "2022-08-27T03:00:00.000000000",
          "2022-08-27T04:00:00.000000000",
          "2022-08-27T05:00:00.000000000",
          "2022-08-27T06:00:00.000000000",
          "2022-08-27T07:00:00.000000000",
          "2022-08-27T08:00:00.000000000",
          "2022-08-27T09:00:00.000000000",
          "2022-08-27T10:00:00.000000000",
          "2022-08-27T11:00:00.000000000",
          "2022-08-27T12:00:00.000000000",
          "2022-08-27T13:00:00.000000000",
          "2022-08-27T14:00:00.000000000",
          "2022-08-27T15:00:00.000000000",
          "2022-08-27T16:00:00.000000000",
          "2022-08-27T17:00:00.000000000",
          "2022-08-27T18:00:00.000000000",
          "2022-08-27T19:00:00.000000000",
          "2022-08-27T20:00:00.000000000",
          "2022-08-27T21:00:00.000000000",
          "2022-08-27T22:00:00.000000000",
          "2022-08-27T23:00:00.000000000",
          "2022-08-28T00:00:00.000000000",
          "2022-08-28T01:00:00.000000000",
          "2022-08-28T02:00:00.000000000",
          "2022-08-28T03:00:00.000000000",
          "2022-08-28T04:00:00.000000000",
          "2022-08-28T05:00:00.000000000",
          "2022-08-28T06:00:00.000000000",
          "2022-08-28T07:00:00.000000000",
          "2022-08-28T08:00:00.000000000",
          "2022-08-28T09:00:00.000000000",
          "2022-08-28T10:00:00.000000000",
          "2022-08-28T11:00:00.000000000",
          "2022-08-28T12:00:00.000000000",
          "2022-08-28T13:00:00.000000000",
          "2022-08-28T14:00:00.000000000",
          "2022-08-28T15:00:00.000000000",
          "2022-08-28T16:00:00.000000000",
          "2022-08-28T17:00:00.000000000",
          "2022-08-28T18:00:00.000000000",
          "2022-08-28T19:00:00.000000000",
          "2022-08-28T20:00:00.000000000",
          "2022-08-28T21:00:00.000000000",
          "2022-08-28T22:00:00.000000000",
          "2022-08-28T23:00:00.000000000",
          "2022-08-29T00:00:00.000000000",
          "2022-08-29T01:00:00.000000000",
          "2022-08-29T02:00:00.000000000",
          "2022-08-29T03:00:00.000000000",
          "2022-08-29T04:00:00.000000000",
          "2022-08-29T05:00:00.000000000",
          "2022-08-29T06:00:00.000000000",
          "2022-08-29T07:00:00.000000000",
          "2022-08-29T08:00:00.000000000",
          "2022-08-29T09:00:00.000000000",
          "2022-08-29T10:00:00.000000000",
          "2022-08-29T11:00:00.000000000",
          "2022-08-29T12:00:00.000000000",
          "2022-08-29T13:00:00.000000000",
          "2022-08-29T14:00:00.000000000",
          "2022-08-29T15:00:00.000000000",
          "2022-08-29T16:00:00.000000000",
          "2022-08-29T17:00:00.000000000",
          "2022-08-29T18:00:00.000000000",
          "2022-08-29T19:00:00.000000000",
          "2022-08-29T20:00:00.000000000",
          "2022-08-29T21:00:00.000000000",
          "2022-08-29T22:00:00.000000000",
          "2022-08-29T23:00:00.000000000",
          "2022-08-30T00:00:00.000000000",
          "2022-08-30T01:00:00.000000000",
          "2022-08-30T02:00:00.000000000",
          "2022-08-30T03:00:00.000000000",
          "2022-08-30T04:00:00.000000000",
          "2022-08-30T05:00:00.000000000",
          "2022-08-30T06:00:00.000000000",
          "2022-08-30T07:00:00.000000000",
          "2022-08-30T08:00:00.000000000",
          "2022-08-30T09:00:00.000000000",
          "2022-08-30T10:00:00.000000000",
          "2022-08-30T11:00:00.000000000",
          "2022-08-30T12:00:00.000000000",
          "2022-08-30T13:00:00.000000000",
          "2022-08-30T14:00:00.000000000",
          "2022-08-30T15:00:00.000000000",
          "2022-08-30T16:00:00.000000000",
          "2022-08-30T17:00:00.000000000",
          "2022-08-30T18:00:00.000000000",
          "2022-08-30T19:00:00.000000000",
          "2022-08-30T20:00:00.000000000",
          "2022-08-30T21:00:00.000000000",
          "2022-08-30T22:00:00.000000000",
          "2022-08-30T23:00:00.000000000",
          "2022-08-31T00:00:00.000000000",
          "2022-08-31T01:00:00.000000000",
          "2022-08-31T02:00:00.000000000",
          "2022-08-31T03:00:00.000000000",
          "2022-08-31T04:00:00.000000000",
          "2022-08-31T05:00:00.000000000",
          "2022-08-31T06:00:00.000000000",
          "2022-08-31T07:00:00.000000000",
          "2022-08-31T08:00:00.000000000",
          "2022-08-31T09:00:00.000000000",
          "2022-08-31T10:00:00.000000000",
          "2022-08-31T11:00:00.000000000",
          "2022-08-31T12:00:00.000000000",
          "2022-08-31T13:00:00.000000000",
          "2022-08-31T14:00:00.000000000",
          "2022-08-31T15:00:00.000000000",
          "2022-08-31T16:00:00.000000000",
          "2022-08-31T17:00:00.000000000",
          "2022-08-31T18:00:00.000000000",
          "2022-08-31T19:00:00.000000000",
          "2022-08-31T20:00:00.000000000",
          "2022-08-31T21:00:00.000000000",
          "2022-08-31T22:00:00.000000000",
          "2022-08-31T23:00:00.000000000",
          "2022-09-01T00:00:00.000000000",
          "2022-09-01T01:00:00.000000000",
          "2022-09-01T02:00:00.000000000",
          "2022-09-01T03:00:00.000000000",
          "2022-09-01T04:00:00.000000000",
          "2022-09-01T05:00:00.000000000",
          "2022-09-01T06:00:00.000000000",
          "2022-09-01T07:00:00.000000000",
          "2022-09-01T08:00:00.000000000",
          "2022-09-01T09:00:00.000000000",
          "2022-09-01T10:00:00.000000000",
          "2022-09-01T11:00:00.000000000",
          "2022-09-01T12:00:00.000000000",
          "2022-09-01T13:00:00.000000000",
          "2022-09-01T14:00:00.000000000",
          "2022-09-01T15:00:00.000000000",
          "2022-09-01T16:00:00.000000000",
          "2022-09-01T17:00:00.000000000",
          "2022-09-01T18:00:00.000000000",
          "2022-09-01T19:00:00.000000000",
          "2022-09-01T20:00:00.000000000",
          "2022-09-01T21:00:00.000000000",
          "2022-09-01T22:00:00.000000000",
          "2022-09-01T23:00:00.000000000",
          "2022-09-02T00:00:00.000000000",
          "2022-09-02T01:00:00.000000000",
          "2022-09-02T02:00:00.000000000",
          "2022-09-02T03:00:00.000000000",
          "2022-09-02T04:00:00.000000000",
          "2022-09-02T05:00:00.000000000",
          "2022-09-02T06:00:00.000000000",
          "2022-09-02T07:00:00.000000000",
          "2022-09-02T08:00:00.000000000",
          "2022-09-02T09:00:00.000000000",
          "2022-09-02T10:00:00.000000000",
          "2022-09-02T11:00:00.000000000",
          "2022-09-02T12:00:00.000000000",
          "2022-09-02T13:00:00.000000000",
          "2022-09-02T14:00:00.000000000",
          "2022-09-02T15:00:00.000000000",
          "2022-09-02T16:00:00.000000000",
          "2022-09-02T17:00:00.000000000",
          "2022-09-02T18:00:00.000000000",
          "2022-09-02T19:00:00.000000000",
          "2022-09-02T20:00:00.000000000",
          "2022-09-02T21:00:00.000000000",
          "2022-09-02T22:00:00.000000000",
          "2022-09-02T23:00:00.000000000",
          "2022-09-03T00:00:00.000000000",
          "2022-09-03T01:00:00.000000000",
          "2022-09-03T02:00:00.000000000",
          "2022-09-03T03:00:00.000000000",
          "2022-09-03T04:00:00.000000000",
          "2022-09-03T05:00:00.000000000",
          "2022-09-03T06:00:00.000000000",
          "2022-09-03T07:00:00.000000000",
          "2022-09-03T08:00:00.000000000",
          "2022-09-03T09:00:00.000000000",
          "2022-09-03T10:00:00.000000000",
          "2022-09-03T11:00:00.000000000",
          "2022-09-03T12:00:00.000000000",
          "2022-09-03T13:00:00.000000000",
          "2022-09-03T14:00:00.000000000",
          "2022-09-03T15:00:00.000000000",
          "2022-09-03T16:00:00.000000000",
          "2022-09-03T17:00:00.000000000",
          "2022-09-03T18:00:00.000000000",
          "2022-09-03T19:00:00.000000000",
          "2022-09-03T20:00:00.000000000",
          "2022-09-03T21:00:00.000000000",
          "2022-09-03T22:00:00.000000000",
          "2022-09-03T23:00:00.000000000",
          "2022-09-04T00:00:00.000000000",
          "2022-09-04T01:00:00.000000000",
          "2022-09-04T02:00:00.000000000",
          "2022-09-04T03:00:00.000000000",
          "2022-09-04T04:00:00.000000000",
          "2022-09-04T05:00:00.000000000",
          "2022-09-04T06:00:00.000000000",
          "2022-09-04T07:00:00.000000000",
          "2022-09-04T08:00:00.000000000",
          "2022-09-04T09:00:00.000000000",
          "2022-09-04T10:00:00.000000000",
          "2022-09-04T11:00:00.000000000",
          "2022-09-04T12:00:00.000000000",
          "2022-09-04T13:00:00.000000000",
          "2022-09-04T14:00:00.000000000",
          "2022-09-04T15:00:00.000000000",
          "2022-09-04T16:00:00.000000000",
          "2022-09-04T17:00:00.000000000",
          "2022-09-04T18:00:00.000000000",
          "2022-09-04T19:00:00.000000000",
          "2022-09-04T20:00:00.000000000",
          "2022-09-04T21:00:00.000000000",
          "2022-09-04T22:00:00.000000000",
          "2022-09-04T23:00:00.000000000",
          "2022-09-05T00:00:00.000000000",
          "2022-09-05T01:00:00.000000000",
          "2022-09-05T02:00:00.000000000",
          "2022-09-05T03:00:00.000000000",
          "2022-09-05T04:00:00.000000000",
          "2022-09-05T05:00:00.000000000",
          "2022-09-05T06:00:00.000000000",
          "2022-09-05T07:00:00.000000000",
          "2022-09-05T08:00:00.000000000",
          "2022-09-05T09:00:00.000000000",
          "2022-09-05T10:00:00.000000000",
          "2022-09-05T11:00:00.000000000",
          "2022-09-05T12:00:00.000000000",
          "2022-09-05T13:00:00.000000000",
          "2022-09-05T14:00:00.000000000",
          "2022-09-05T15:00:00.000000000",
          "2022-09-05T16:00:00.000000000",
          "2022-09-05T17:00:00.000000000",
          "2022-09-05T18:00:00.000000000",
          "2022-09-05T19:00:00.000000000",
          "2022-09-05T20:00:00.000000000",
          "2022-09-05T21:00:00.000000000",
          "2022-09-05T22:00:00.000000000",
          "2022-09-05T23:00:00.000000000",
          "2022-09-06T00:00:00.000000000",
          "2022-09-06T01:00:00.000000000",
          "2022-09-06T02:00:00.000000000",
          "2022-09-06T03:00:00.000000000",
          "2022-09-06T04:00:00.000000000",
          "2022-09-06T05:00:00.000000000",
          "2022-09-06T06:00:00.000000000",
          "2022-09-06T07:00:00.000000000",
          "2022-09-06T08:00:00.000000000",
          "2022-09-06T09:00:00.000000000",
          "2022-09-06T10:00:00.000000000",
          "2022-09-06T11:00:00.000000000",
          "2022-09-06T12:00:00.000000000",
          "2022-09-06T13:00:00.000000000",
          "2022-09-06T14:00:00.000000000",
          "2022-09-06T15:00:00.000000000",
          "2022-09-06T16:00:00.000000000",
          "2022-09-06T17:00:00.000000000",
          "2022-09-06T18:00:00.000000000",
          "2022-09-06T19:00:00.000000000",
          "2022-09-06T20:00:00.000000000",
          "2022-09-06T21:00:00.000000000",
          "2022-09-06T22:00:00.000000000",
          "2022-09-06T23:00:00.000000000",
          "2022-09-07T00:00:00.000000000",
          "2022-09-07T01:00:00.000000000",
          "2022-09-07T02:00:00.000000000",
          "2022-09-07T03:00:00.000000000",
          "2022-09-07T04:00:00.000000000",
          "2022-09-07T05:00:00.000000000",
          "2022-09-07T06:00:00.000000000",
          "2022-09-07T07:00:00.000000000",
          "2022-09-07T08:00:00.000000000",
          "2022-09-07T09:00:00.000000000",
          "2022-09-07T10:00:00.000000000",
          "2022-09-07T11:00:00.000000000",
          "2022-09-07T12:00:00.000000000",
          "2022-09-07T13:00:00.000000000",
          "2022-09-07T14:00:00.000000000",
          "2022-09-07T15:00:00.000000000",
          "2022-09-07T16:00:00.000000000",
          "2022-09-07T17:00:00.000000000",
          "2022-09-07T18:00:00.000000000",
          "2022-09-07T19:00:00.000000000",
          "2022-09-07T20:00:00.000000000",
          "2022-09-07T21:00:00.000000000",
          "2022-09-07T22:00:00.000000000",
          "2022-09-07T23:00:00.000000000",
          "2022-09-08T00:00:00.000000000",
          "2022-09-08T01:00:00.000000000",
          "2022-09-08T02:00:00.000000000",
          "2022-09-08T03:00:00.000000000",
          "2022-09-08T04:00:00.000000000",
          "2022-09-08T05:00:00.000000000",
          "2022-09-08T06:00:00.000000000",
          "2022-09-08T07:00:00.000000000",
          "2022-09-08T08:00:00.000000000",
          "2022-09-08T09:00:00.000000000",
          "2022-09-08T10:00:00.000000000",
          "2022-09-08T11:00:00.000000000",
          "2022-09-08T12:00:00.000000000",
          "2022-09-08T13:00:00.000000000",
          "2022-09-08T14:00:00.000000000",
          "2022-09-08T15:00:00.000000000",
          "2022-09-08T16:00:00.000000000",
          "2022-09-08T17:00:00.000000000",
          "2022-09-08T18:00:00.000000000",
          "2022-09-08T19:00:00.000000000",
          "2022-09-08T20:00:00.000000000",
          "2022-09-08T21:00:00.000000000",
          "2022-09-08T22:00:00.000000000",
          "2022-09-08T23:00:00.000000000",
          "2022-09-09T00:00:00.000000000"
         ],
         "xaxis": "x",
         "y": {
          "bdata": "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",
          "dtype": "f4"
         },
         "yaxis": "y"
        },
        {
         "line": {
          "color": "green"
         },
         "marker": {
          "size": 10
         },
         "mode": "markers",
         "name": "actual value",
         "type": "scatter",
         "x": [
          "2022-09-09T00:00:00+00:00"
         ],
         "y": [
          1
         ]
        },
        {
         "line": {
          "color": "red"
         },
         "marker": {
          "size": 15,
          "symbol": "x"
         },
         "mode": "markers",
         "name": "prediction",
         "type": "scatter",
         "x": [
          "2022-09-09T00:00:00+00:00"
         ],
         "y": [
          1.0913003449496894
         ]
        }
       ],
       "layout": {
        "legend": {
         "tracegroupgap": 0
        },
        "template": {
         "data": {
          "bar": [
           {
            "error_x": {
             "color": "#f2f5fa"
            },
            "error_y": {
             "color": "#f2f5fa"
            },
            "marker": {
             "line": {
              "color": "rgb(17,17,17)",
              "width": 0.5
             },
             "pattern": {
              "fillmode": "overlay",
              "size": 10,
              "solidity": 0.2
             }
            },
            "type": "bar"
           }
          ],
          "barpolar": [
           {
            "marker": {
             "line": {
              "color": "rgb(17,17,17)",
              "width": 0.5
             },
             "pattern": {
              "fillmode": "overlay",
              "size": 10,
              "solidity": 0.2
             }
            },
            "type": "barpolar"
           }
          ],
          "carpet": [
           {
            "aaxis": {
             "endlinecolor": "#A2B1C6",
             "gridcolor": "#506784",
             "linecolor": "#506784",
             "minorgridcolor": "#506784",
             "startlinecolor": "#A2B1C6"
            },
            "baxis": {
             "endlinecolor": "#A2B1C6",
             "gridcolor": "#506784",
             "linecolor": "#506784",
             "minorgridcolor": "#506784",
             "startlinecolor": "#A2B1C6"
            },
            "type": "carpet"
           }
          ],
          "choropleth": [
           {
            "colorbar": {
             "outlinewidth": 0,
             "ticks": ""
            },
            "type": "choropleth"
           }
          ],
          "contour": [
           {
            "colorbar": {
             "outlinewidth": 0,
             "ticks": ""
            },
            "colorscale": [
             [
              0,
              "#0d0887"
             ],
             [
              0.1111111111111111,
              "#46039f"
             ],
             [
              0.2222222222222222,
              "#7201a8"
             ],
             [
              0.3333333333333333,
              "#9c179e"
             ],
             [
              0.4444444444444444,
              "#bd3786"
             ],
             [
              0.5555555555555556,
              "#d8576b"
             ],
             [
              0.6666666666666666,
              "#ed7953"
             ],
             [
              0.7777777777777778,
              "#fb9f3a"
             ],
             [
              0.8888888888888888,
              "#fdca26"
             ],
             [
              1,
              "#f0f921"
             ]
            ],
            "type": "contour"
           }
          ],
          "contourcarpet": [
           {
            "colorbar": {
             "outlinewidth": 0,
             "ticks": ""
            },
            "type": "contourcarpet"
           }
          ],
          "heatmap": [
           {
            "colorbar": {
             "outlinewidth": 0,
             "ticks": ""
            },
            "colorscale": [
             [
              0,
              "#0d0887"
             ],
             [
              0.1111111111111111,
              "#46039f"
             ],
             [
              0.2222222222222222,
              "#7201a8"
             ],
             [
              0.3333333333333333,
              "#9c179e"
             ],
             [
              0.4444444444444444,
              "#bd3786"
             ],
             [
              0.5555555555555556,
              "#d8576b"
             ],
             [
              0.6666666666666666,
              "#ed7953"
             ],
             [
              0.7777777777777778,
              "#fb9f3a"
             ],
             [
              0.8888888888888888,
              "#fdca26"
             ],
             [
              1,
              "#f0f921"
             ]
            ],
            "type": "heatmap"
           }
          ],
          "histogram": [
           {
            "marker": {
             "pattern": {
              "fillmode": "overlay",
              "size": 10,
              "solidity": 0.2
             }
            },
            "type": "histogram"
           }
          ],
          "histogram2d": [
           {
            "colorbar": {
             "outlinewidth": 0,
             "ticks": ""
            },
            "colorscale": [
             [
              0,
              "#0d0887"
             ],
             [
              0.1111111111111111,
              "#46039f"
             ],
             [
              0.2222222222222222,
              "#7201a8"
             ],
             [
              0.3333333333333333,
              "#9c179e"
             ],
             [
              0.4444444444444444,
              "#bd3786"
             ],
             [
              0.5555555555555556,
              "#d8576b"
             ],
             [
              0.6666666666666666,
              "#ed7953"
             ],
             [
              0.7777777777777778,
              "#fb9f3a"
             ],
             [
              0.8888888888888888,
              "#fdca26"
             ],
             [
              1,
              "#f0f921"
             ]
            ],
            "type": "histogram2d"
           }
          ],
          "histogram2dcontour": [
           {
            "colorbar": {
             "outlinewidth": 0,
             "ticks": ""
            },
            "colorscale": [
             [
              0,
              "#0d0887"
             ],
             [
              0.1111111111111111,
              "#46039f"
             ],
             [
              0.2222222222222222,
              "#7201a8"
             ],
             [
              0.3333333333333333,
              "#9c179e"
             ],
             [
              0.4444444444444444,
              "#bd3786"
             ],
             [
              0.5555555555555556,
              "#d8576b"
             ],
             [
              0.6666666666666666,
              "#ed7953"
             ],
             [
              0.7777777777777778,
              "#fb9f3a"
             ],
             [
              0.8888888888888888,
              "#fdca26"
             ],
             [
              1,
              "#f0f921"
             ]
            ],
            "type": "histogram2dcontour"
           }
          ],
          "mesh3d": [
           {
            "colorbar": {
             "outlinewidth": 0,
             "ticks": ""
            },
            "type": "mesh3d"
           }
          ],
          "parcoords": [
           {
            "line": {
             "colorbar": {
              "outlinewidth": 0,
              "ticks": ""
             }
            },
            "type": "parcoords"
           }
          ],
          "pie": [
           {
            "automargin": true,
            "type": "pie"
           }
          ],
          "scatter": [
           {
            "marker": {
             "line": {
              "color": "#283442"
             }
            },
            "type": "scatter"
           }
          ],
          "scatter3d": [
           {
            "line": {
             "colorbar": {
              "outlinewidth": 0,
              "ticks": ""
             }
            },
            "marker": {
             "colorbar": {
              "outlinewidth": 0,
              "ticks": ""
             }
            },
            "type": "scatter3d"
           }
          ],
          "scattercarpet": [
           {
            "marker": {
             "colorbar": {
              "outlinewidth": 0,
              "ticks": ""
             }
            },
            "type": "scattercarpet"
           }
          ],
          "scattergeo": [
           {
            "marker": {
             "colorbar": {
              "outlinewidth": 0,
              "ticks": ""
             }
            },
            "type": "scattergeo"
           }
          ],
          "scattergl": [
           {
            "marker": {
             "line": {
              "color": "#283442"
             }
            },
            "type": "scattergl"
           }
          ],
          "scattermap": [
           {
            "marker": {
             "colorbar": {
              "outlinewidth": 0,
              "ticks": ""
             }
            },
            "type": "scattermap"
           }
          ],
          "scattermapbox": [
           {
            "marker": {
             "colorbar": {
              "outlinewidth": 0,
              "ticks": ""
             }
            },
            "type": "scattermapbox"
           }
          ],
          "scatterpolar": [
           {
            "marker": {
             "colorbar": {
              "outlinewidth": 0,
              "ticks": ""
             }
            },
            "type": "scatterpolar"
           }
          ],
          "scatterpolargl": [
           {
            "marker": {
             "colorbar": {
              "outlinewidth": 0,
              "ticks": ""
             }
            },
            "type": "scatterpolargl"
           }
          ],
          "scatterternary": [
           {
            "marker": {
             "colorbar": {
              "outlinewidth": 0,
              "ticks": ""
             }
            },
            "type": "scatterternary"
           }
          ],
          "surface": [
           {
            "colorbar": {
             "outlinewidth": 0,
             "ticks": ""
            },
            "colorscale": [
             [
              0,
              "#0d0887"
             ],
             [
              0.1111111111111111,
              "#46039f"
             ],
             [
              0.2222222222222222,
              "#7201a8"
             ],
             [
              0.3333333333333333,
              "#9c179e"
             ],
             [
              0.4444444444444444,
              "#bd3786"
             ],
             [
              0.5555555555555556,
              "#d8576b"
             ],
             [
              0.6666666666666666,
              "#ed7953"
             ],
             [
              0.7777777777777778,
              "#fb9f3a"
             ],
             [
              0.8888888888888888,
              "#fdca26"
             ],
             [
              1,
              "#f0f921"
             ]
            ],
            "type": "surface"
           }
          ],
          "table": [
           {
            "cells": {
             "fill": {
              "color": "#506784"
             },
             "line": {
              "color": "rgb(17,17,17)"
             }
            },
            "header": {
             "fill": {
              "color": "#2a3f5f"
             },
             "line": {
              "color": "rgb(17,17,17)"
             }
            },
            "type": "table"
           }
          ]
         },
         "layout": {
          "annotationdefaults": {
           "arrowcolor": "#f2f5fa",
           "arrowhead": 0,
           "arrowwidth": 1
          },
          "autotypenumbers": "strict",
          "coloraxis": {
           "colorbar": {
            "outlinewidth": 0,
            "ticks": ""
           }
          },
          "colorscale": {
           "diverging": [
            [
             0,
             "#8e0152"
            ],
            [
             0.1,
             "#c51b7d"
            ],
            [
             0.2,
             "#de77ae"
            ],
            [
             0.3,
             "#f1b6da"
            ],
            [
             0.4,
             "#fde0ef"
            ],
            [
             0.5,
             "#f7f7f7"
            ],
            [
             0.6,
             "#e6f5d0"
            ],
            [
             0.7,
             "#b8e186"
            ],
            [
             0.8,
             "#7fbc41"
            ],
            [
             0.9,
             "#4d9221"
            ],
            [
             1,
             "#276419"
            ]
           ],
           "sequential": [
            [
             0,
             "#0d0887"
            ],
            [
             0.1111111111111111,
             "#46039f"
            ],
            [
             0.2222222222222222,
             "#7201a8"
            ],
            [
             0.3333333333333333,
             "#9c179e"
            ],
            [
             0.4444444444444444,
             "#bd3786"
            ],
            [
             0.5555555555555556,
             "#d8576b"
            ],
            [
             0.6666666666666666,
             "#ed7953"
            ],
            [
             0.7777777777777778,
             "#fb9f3a"
            ],
            [
             0.8888888888888888,
             "#fdca26"
            ],
            [
             1,
             "#f0f921"
            ]
           ],
           "sequentialminus": [
            [
             0,
             "#0d0887"
            ],
            [
             0.1111111111111111,
             "#46039f"
            ],
            [
             0.2222222222222222,
             "#7201a8"
            ],
            [
             0.3333333333333333,
             "#9c179e"
            ],
            [
             0.4444444444444444,
             "#bd3786"
            ],
            [
             0.5555555555555556,
             "#d8576b"
            ],
            [
             0.6666666666666666,
             "#ed7953"
            ],
            [
             0.7777777777777778,
             "#fb9f3a"
            ],
            [
             0.8888888888888888,
             "#fdca26"
            ],
            [
             1,
             "#f0f921"
            ]
           ]
          },
          "colorway": [
           "#636efa",
           "#EF553B",
           "#00cc96",
           "#ab63fa",
           "#FFA15A",
           "#19d3f3",
           "#FF6692",
           "#B6E880",
           "#FF97FF",
           "#FECB52"
          ],
          "font": {
           "color": "#f2f5fa"
          },
          "geo": {
           "bgcolor": "rgb(17,17,17)",
           "lakecolor": "rgb(17,17,17)",
           "landcolor": "rgb(17,17,17)",
           "showlakes": true,
           "showland": true,
           "subunitcolor": "#506784"
          },
          "hoverlabel": {
           "align": "left"
          },
          "hovermode": "closest",
          "mapbox": {
           "style": "dark"
          },
          "paper_bgcolor": "rgb(17,17,17)",
          "plot_bgcolor": "rgb(17,17,17)",
          "polar": {
           "angularaxis": {
            "gridcolor": "#506784",
            "linecolor": "#506784",
            "ticks": ""
           },
           "bgcolor": "rgb(17,17,17)",
           "radialaxis": {
            "gridcolor": "#506784",
            "linecolor": "#506784",
            "ticks": ""
           }
          },
          "scene": {
           "xaxis": {
            "backgroundcolor": "rgb(17,17,17)",
            "gridcolor": "#506784",
            "gridwidth": 2,
            "linecolor": "#506784",
            "showbackground": true,
            "ticks": "",
            "zerolinecolor": "#C8D4E3"
           },
           "yaxis": {
            "backgroundcolor": "rgb(17,17,17)",
            "gridcolor": "#506784",
            "gridwidth": 2,
            "linecolor": "#506784",
            "showbackground": true,
            "ticks": "",
            "zerolinecolor": "#C8D4E3"
           },
           "zaxis": {
            "backgroundcolor": "rgb(17,17,17)",
            "gridcolor": "#506784",
            "gridwidth": 2,
            "linecolor": "#506784",
            "showbackground": true,
            "ticks": "",
            "zerolinecolor": "#C8D4E3"
           }
          },
          "shapedefaults": {
           "line": {
            "color": "#f2f5fa"
           }
          },
          "sliderdefaults": {
           "bgcolor": "#C8D4E3",
           "bordercolor": "rgb(17,17,17)",
           "borderwidth": 1,
           "tickwidth": 0
          },
          "ternary": {
           "aaxis": {
            "gridcolor": "#506784",
            "linecolor": "#506784",
            "ticks": ""
           },
           "baxis": {
            "gridcolor": "#506784",
            "linecolor": "#506784",
            "ticks": ""
           },
           "bgcolor": "rgb(17,17,17)",
           "caxis": {
            "gridcolor": "#506784",
            "linecolor": "#506784",
            "ticks": ""
           }
          },
          "title": {
           "x": 0.05
          },
          "updatemenudefaults": {
           "bgcolor": "#506784",
           "borderwidth": 0
          },
          "xaxis": {
           "automargin": true,
           "gridcolor": "#283442",
           "linecolor": "#506784",
           "ticks": "",
           "title": {
            "standoff": 15
           },
           "zerolinecolor": "#283442",
           "zerolinewidth": 2
          },
          "yaxis": {
           "automargin": true,
           "gridcolor": "#283442",
           "linecolor": "#506784",
           "ticks": "",
           "title": {
            "standoff": 15
           },
           "zerolinecolor": "#283442",
           "zerolinewidth": 2
          }
         }
        },
        "title": {
         "text": "Pick up hour=2022-09-09 00:00:00+00:00, location_id=1"
        },
        "xaxis": {
         "anchor": "y",
         "domain": [
          0,
          1
         ],
         "title": {
          "text": "x"
         }
        },
        "yaxis": {
         "anchor": "x",
         "domain": [
          0,
          1
         ],
         "title": {
          "text": "y"
         }
        }
       }
      }
     },
     "metadata": {},
     "output_type": "display_data"
    }
   ],
   "source": [
    "from src.plot import plot_one_sample\n",
    "\n",
    "plot_one_sample(\n",
    "    features=X_test,\n",
    "    targets = y_test,\n",
    "    example_id=100,\n",
    "    predictions = pd.Series(prediction)\n",
    ")\n"
   ]
  },
  {
   "cell_type": "code",
   "execution_count": null,
   "id": "a92f70e2",
   "metadata": {},
   "outputs": [],
   "source": []
  }
 ],
 "metadata": {
  "kernelspec": {
   "display_name": ".venv",
   "language": "python",
   "name": "python3"
  },
  "language_info": {
   "codemirror_mode": {
    "name": "ipython",
    "version": 3
   },
   "file_extension": ".py",
   "mimetype": "text/x-python",
   "name": "python",
   "nbconvert_exporter": "python",
   "pygments_lexer": "ipython3",
   "version": "3.10.0"
  }
 },
 "nbformat": 4,
 "nbformat_minor": 5
}
